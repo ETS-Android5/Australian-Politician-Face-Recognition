{
 "cells": [
  {
   "cell_type": "code",
   "execution_count": 1,
   "metadata": {},
   "outputs": [
    {
     "name": "stderr",
     "output_type": "stream",
     "text": [
      "Using TensorFlow backend.\n"
     ]
    }
   ],
   "source": [
    "import tensorflow as tf\n",
    "import keras\n",
    "\n",
    "from keras.engine import  Model\n",
    "from keras.layers import Flatten, Dense, Input\n",
    "from keras_vggface.vggface import VGGFace\n",
    "from keras import backend as K\n",
    "from custom_metrics import f1, precision, recall"
   ]
  },
  {
   "cell_type": "code",
   "execution_count": 2,
   "metadata": {},
   "outputs": [],
   "source": [
    "config = tf.ConfigProto( device_count = {'GPU': 1 } ) \n",
    "sess = tf.Session(config=config) \n",
    "keras.backend.set_session(sess)"
   ]
  },
  {
   "cell_type": "code",
   "execution_count": 4,
   "metadata": {},
   "outputs": [
    {
     "name": "stdout",
     "output_type": "stream",
     "text": [
      "WARNING:tensorflow:From /home/ubuntu/.local/lib/python3.6/site-packages/tensorflow/python/framework/op_def_library.py:263: colocate_with (from tensorflow.python.framework.ops) is deprecated and will be removed in a future version.\n",
      "Instructions for updating:\n",
      "Colocations handled automatically by placer.\n",
      "WARNING:tensorflow:From /home/ubuntu/.local/lib/python3.6/site-packages/keras/backend/tensorflow_backend.py:1259: calling reduce_prod_v1 (from tensorflow.python.ops.math_ops) with keep_dims is deprecated and will be removed in a future version.\n",
      "Instructions for updating:\n",
      "keep_dims is deprecated, use keepdims instead\n"
     ]
    }
   ],
   "source": [
    "#custom parameters\n",
    "nb_class = 225\n",
    "hidden_dim = 128\n",
    "\n",
    "vgg_model = VGGFace(include_top=False, input_shape=(224, 224, 3))\n",
    "last_layer = vgg_model.get_layer('pool5').output\n",
    "x = Flatten(name='flatten')(last_layer)\n",
    "x = Dense(hidden_dim, activation='relu', name='fc6')(x)\n",
    "x = Dense(hidden_dim, activation='relu', name='fc7')(x)\n",
    "out = Dense(nb_class, activation='softmax', name='fc8')(x)\n",
    "custom_vgg_model = Model(vgg_model.input, out)"
   ]
  },
  {
   "cell_type": "code",
   "execution_count": 6,
   "metadata": {},
   "outputs": [],
   "source": [
    "for layer in custom_vgg_model.layers[:-3]:\n",
    "    layer.trainable = False"
   ]
  },
  {
   "cell_type": "code",
   "execution_count": 7,
   "metadata": {},
   "outputs": [
    {
     "name": "stdout",
     "output_type": "stream",
     "text": [
      "Found 30079 images belonging to 225 classes.\n",
      "Found 5177 images belonging to 225 classes.\n"
     ]
    }
   ],
   "source": [
    "from keras.preprocessing.image import ImageDataGenerator\n",
    "\n",
    "# All images will be rescaled by 1./255 as we need to normalize them before feeding to the network\n",
    "train_datagen = ImageDataGenerator(rescale=1/255)\n",
    "validation_datagen = ImageDataGenerator(rescale=1/255)\n",
    "\n",
    "# We can also use train_datagen.flow(X, label_X) but with flow_from_directory, the classname will be each directory\n",
    "# Flow training images in batches of 64 using train_datagen generator\n",
    "\n",
    "train_generator = train_datagen.flow_from_directory(\n",
    "        './Data/train/',  # This is the source directory for training images\n",
    "        target_size=(224, 224),  # All images will be resized to 150x150\n",
    "        batch_size=64,\n",
    "        class_mode='categorical',\n",
    "        shuffle=True)\n",
    "\n",
    "validation_generator = validation_datagen.flow_from_directory(\n",
    "        './Data/validation',  # This is the source directory for training images\n",
    "        target_size=(224, 224),  # All images will be resized to 150x150\n",
    "        batch_size=64,\n",
    "        class_mode='categorical',\n",
    "        shuffle=True)"
   ]
  },
  {
   "cell_type": "code",
   "execution_count": 9,
   "metadata": {},
   "outputs": [
    {
     "name": "stdout",
     "output_type": "stream",
     "text": [
      "WARNING:tensorflow:From /home/ubuntu/.local/lib/python3.6/site-packages/keras/backend/tensorflow_backend.py:2880: calling reduce_sum_v1 (from tensorflow.python.ops.math_ops) with keep_dims is deprecated and will be removed in a future version.\n",
      "Instructions for updating:\n",
      "keep_dims is deprecated, use keepdims instead\n"
     ]
    }
   ],
   "source": [
    "from keras.callbacks import TensorBoard\n",
    "custom_vgg_model.compile(optimizer=keras.optimizers.Adam(lr=0.0002), loss='categorical_crossentropy',metrics=['accuracy', f1, precision, recall])\n",
    "NAME = 'Farzad-2Dense-255class-VGGFACE-correctedData-farzad-new'\n",
    "\n",
    "filepath= NAME + \"-improvement-{epoch:02d}-{val_acc:.2f}.hdf5\"\n",
    "checkpoint = keras.callbacks.ModelCheckpoint(filepath, monitor='val_acc', verbose=1,save_weights_only=False, save_best_only=True, mode='max')\n",
    "tensorboard = TensorBoard(log_dir='logs/{}'.format(NAME))\n",
    "callbacks_list = [checkpoint, tensorboard]"
   ]
  },
  {
   "cell_type": "code",
   "execution_count": null,
   "metadata": {},
   "outputs": [
    {
     "name": "stdout",
     "output_type": "stream",
     "text": [
      "WARNING:tensorflow:From /home/ubuntu/.local/lib/python3.6/site-packages/tensorflow/python/ops/math_ops.py:3066: to_int32 (from tensorflow.python.ops.math_ops) is deprecated and will be removed in a future version.\n",
      "Instructions for updating:\n",
      "Use tf.cast instead.\n",
      "Epoch 1/20\n",
      "468/469 [============================>.] - ETA: 0s - loss: 3.5307 - acc: 0.3952 - f1: 0.1432 - precision: 0.5910 - recall: 0.0872Epoch 00001: val_acc improved from -inf to 0.69693, saving model to Farzad-2Dense-255class-VGGFACE-correctedData-farzad-new-improvement-01-0.70.hdf5\n",
      "470/469 [==============================] - 305s 649ms/step - loss: 3.5153 - acc: 0.3984 - f1: 0.1462 - precision: 0.5945 - recall: 0.0893 - val_loss: 1.8316 - val_acc: 0.6969 - val_f1: 0.4727 - val_precision: 0.9855 - val_recall: 0.3133\n",
      "Epoch 2/20\n",
      "468/469 [============================>.] - ETA: 0s - loss: 1.1941 - acc: 0.7998 - f1: 0.6768 - precision: 0.9817 - recall: 0.5248Epoch 00002: val_acc improved from 0.69693 to 0.83678, saving model to Farzad-2Dense-255class-VGGFACE-correctedData-farzad-new-improvement-02-0.84.hdf5\n",
      "470/469 [==============================] - 293s 623ms/step - loss: 1.1903 - acc: 0.8006 - f1: 0.6780 - precision: 0.9817 - recall: 0.5262 - val_loss: 0.8873 - val_acc: 0.8368 - val_f1: 0.7749 - val_precision: 0.9740 - val_recall: 0.6454\n",
      "Epoch 3/20\n",
      "468/469 [============================>.] - ETA: 0s - loss: 0.6322 - acc: 0.8926 - f1: 0.8432 - precision: 0.9816 - recall: 0.7413Epoch 00003: val_acc improved from 0.83678 to 0.88178, saving model to Farzad-2Dense-255class-VGGFACE-correctedData-farzad-new-improvement-03-0.88.hdf5\n",
      "470/469 [==============================] - 293s 623ms/step - loss: 0.6320 - acc: 0.8925 - f1: 0.8434 - precision: 0.9816 - recall: 0.7416 - val_loss: 0.6228 - val_acc: 0.8818 - val_f1: 0.8528 - val_precision: 0.9749 - val_recall: 0.7599\n",
      "Epoch 4/20\n",
      "468/469 [============================>.] - ETA: 0s - loss: 0.4240 - acc: 0.9272 - f1: 0.9003 - precision: 0.9836 - recall: 0.8314Epoch 00004: val_acc improved from 0.88178 to 0.89762, saving model to Farzad-2Dense-255class-VGGFACE-correctedData-farzad-new-improvement-04-0.90.hdf5\n",
      "470/469 [==============================] - 293s 623ms/step - loss: 0.4227 - acc: 0.9277 - f1: 0.9006 - precision: 0.9837 - recall: 0.8319 - val_loss: 0.5073 - val_acc: 0.8976 - val_f1: 0.8867 - val_precision: 0.9727 - val_recall: 0.8155\n",
      "Epoch 5/20\n",
      "468/469 [============================>.] - ETA: 0s - loss: 0.3062 - acc: 0.9500 - f1: 0.9286 - precision: 0.9854 - recall: 0.8787Epoch 00005: val_acc improved from 0.89762 to 0.90129, saving model to Farzad-2Dense-255class-VGGFACE-correctedData-farzad-new-improvement-05-0.90.hdf5\n",
      "470/469 [==============================] - 293s 624ms/step - loss: 0.3082 - acc: 0.9496 - f1: 0.9283 - precision: 0.9849 - recall: 0.8785 - val_loss: 0.4528 - val_acc: 0.9013 - val_f1: 0.8999 - val_precision: 0.9696 - val_recall: 0.8403\n",
      "Epoch 6/20\n",
      " 33/469 [=>............................] - ETA: 3:51 - loss: 0.2487 - acc: 0.9645 - f1: 0.9420 - precision: 0.9865 - recall: 0.9020"
     ]
    }
   ],
   "source": [
    "custom_vgg_model.fit_generator(train_generator,\n",
    "      steps_per_epoch=train_generator.samples//64,  \n",
    "      epochs=20,\n",
    "      verbose=1,\n",
    "      validation_data = validation_generator,\n",
    "      validation_steps=validation_generator.samples//64,\n",
    "      callbacks =callbacks_list\n",
    "    )"
   ]
  }
 ],
 "metadata": {
  "kernelspec": {
   "display_name": "kerasvgg",
   "language": "python",
   "name": "kerasvgg"
  },
  "language_info": {
   "codemirror_mode": {
    "name": "ipython",
    "version": 3
   },
   "file_extension": ".py",
   "mimetype": "text/x-python",
   "name": "python",
   "nbconvert_exporter": "python",
   "pygments_lexer": "ipython3",
   "version": "3.6.7"
  }
 },
 "nbformat": 4,
 "nbformat_minor": 2
}
