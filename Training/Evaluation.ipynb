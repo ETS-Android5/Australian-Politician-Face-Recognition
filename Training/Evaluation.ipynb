{
 "cells": [
  {
   "cell_type": "code",
   "execution_count": null,
   "metadata": {},
   "outputs": [],
   "source": [
    "from keras.utils.generic_utils import get_custom_objects\n",
    "from custom_metrics import f1, precision, recall\n",
    "import keras\n",
    "from keras.preprocessing.image import ImageDataGenerator\n",
    "import json\n",
    "\n",
    "\n",
    "get_custom_objects().update({\"f1\": f1, 'precision': precision, 'recall': recall})"
   ]
  },
  {
   "cell_type": "markdown",
   "metadata": {},
   "source": [
    "### Writing class files and loading model"
   ]
  },
  {
   "cell_type": "code",
   "execution_count": null,
   "metadata": {},
   "outputs": [],
   "source": [
    "# VGG-16 and MobileNet can be tested out of the box\n",
    "#For testing ResNet further preprocessing is needed refer to RESNET notebook\n",
    "\n",
    "model = keras.models.load_model('./2Dense-255class-VGG-16-improvement_0.92.hdf5')\n",
    "\n",
    "validation_datagen = ImageDataGenerator(rescale=1/255)\n",
    "\n",
    "validation_generator = validation_datagen.flow_from_directory(\n",
    "        './Data/validation',  # This is the source directory for training images\n",
    "        target_size=(224, 224),  # All images will be resized to 150x150\n",
    "        batch_size=64,\n",
    "        # Since we use binary_crossentropy loss, we need binary labels\n",
    "        class_mode='categorical',\n",
    "        shuffle=True)"
   ]
  },
  {
   "cell_type": "code",
   "execution_count": null,
   "metadata": {},
   "outputs": [],
   "source": [
    "classes_ = list(validation_generator.class_indices.keys())\n",
    "num_to_label = { value : key for key, value in validation_generator.class_indices.items()}\n",
    "\n",
    "with open('classes.json', 'w') as f:\n",
    "    json.dump(num_to_label, f)\n",
    "\n",
    "with open('classes.json') as f:\n",
    "    num_to_label = json.load(f)\n",
    "\n",
    "num_to_label"
   ]
  },
  {
   "cell_type": "markdown",
   "metadata": {},
   "source": [
    "### Preparing for prediction"
   ]
  },
  {
   "cell_type": "code",
   "execution_count": null,
   "metadata": {},
   "outputs": [],
   "source": [
    "from keras.utils.generic_utils import get_custom_objects\n",
    "from custom_metrics import f1, precision, recall\n",
    "from keras.preprocessing.image import img_to_array\n",
    "# convert the image pixels to a numpy array\n",
    "from keras.preprocessing.image import load_img\n",
    "import numpy as np\n",
    "# load an image from file\n",
    "from keras.models import load_model\n",
    "import json\n",
    "\n",
    "\n",
    "\n",
    "with open('classes.json') as f:\n",
    "    num_to_label = json.load(f)\n",
    "\n",
    "def predict_label_from_file(image, class_labels='classes.json'):\n",
    "    \"jpeg file path and json file containing index -> name as key value pairs\"\n",
    "    \n",
    "    \n",
    "    image = load_img(image, target_size=(224, 224))\n",
    "    image = img_to_array(image) / 255\n",
    "    image = np.expand_dims(image, axis=0)\n",
    "    prediction_tensor = model.predict_on_batch(image)\n",
    "    most_likely = np.argmax(prediction_tensor)\n",
    "    \n",
    "    return num_to_label[str(most_likely)]\n"
   ]
  },
  {
   "cell_type": "code",
   "execution_count": null,
   "metadata": {},
   "outputs": [],
   "source": [
    "predict_label_from_file('zed.jpg', num_to_label)"
   ]
  },
  {
   "cell_type": "code",
   "execution_count": null,
   "metadata": {},
   "outputs": [],
   "source": [
    "# Predict from generator\n",
    "\n",
    "validation_generator.reset()\n",
    "actual_lables = [num_to_label[clazz] for clazz in validation_generator.classes]\n",
    "actual_class = validation_generator.classes\n",
    "\n",
    "pred=model.predict_generator(validation_generator,verbose=1,steps=validation_generator.samples/64)\n",
    "predicted_label = [classes_[np.argmax(i)] for i in pred]\n",
    "predicted_class = [np.argmax(i) for i in pred]\n"
   ]
  }
 ],
 "metadata": {
  "kernelspec": {
   "display_name": "kerasvgg",
   "language": "python",
   "name": "kerasvgg"
  },
  "language_info": {
   "codemirror_mode": {
    "name": "ipython",
    "version": 3
   },
   "file_extension": ".py",
   "mimetype": "text/x-python",
   "name": "python",
   "nbconvert_exporter": "python",
   "pygments_lexer": "ipython3",
   "version": "3.5.2"
  }
 },
 "nbformat": 4,
 "nbformat_minor": 2
}
